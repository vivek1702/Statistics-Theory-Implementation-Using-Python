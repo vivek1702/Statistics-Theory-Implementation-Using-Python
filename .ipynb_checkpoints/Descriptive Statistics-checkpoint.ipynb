{
 "cells": [
  {
   "cell_type": "code",
   "execution_count": null,
   "id": "975d2dca",
   "metadata": {},
   "outputs": [],
   "source": [
    "# In decriptive statistics we genrally do two types of test\n",
    "# - measure of central tendancy\n",
    "# - measure of Dispersion\n",
    "\n",
    "#lets make a list"
   ]
  },
  {
   "cell_type": "code",
   "execution_count": 3,
   "id": "0b9c8f60",
   "metadata": {},
   "outputs": [],
   "source": [
    "a = [1, 2, 3, 3, 5]"
   ]
  },
  {
   "cell_type": "code",
   "execution_count": 4,
   "id": "fc93aa6a",
   "metadata": {},
   "outputs": [
    {
     "data": {
      "text/plain": [
       "14"
      ]
     },
     "execution_count": 4,
     "metadata": {},
     "output_type": "execute_result"
    }
   ],
   "source": [
    "#lets take sum of list\n",
    "sum(a)"
   ]
  },
  {
   "cell_type": "code",
   "execution_count": 5,
   "id": "e19bbb10",
   "metadata": {},
   "outputs": [
    {
     "data": {
      "text/plain": [
       "5"
      ]
     },
     "execution_count": 5,
     "metadata": {},
     "output_type": "execute_result"
    }
   ],
   "source": [
    "#length of the list\n",
    "len(a)"
   ]
  },
  {
   "cell_type": "code",
   "execution_count": 6,
   "id": "cb356104",
   "metadata": {},
   "outputs": [],
   "source": [
    "#lets find the mean\n",
    "import statistics as st"
   ]
  },
  {
   "cell_type": "code",
   "execution_count": 7,
   "id": "69f0b68a",
   "metadata": {},
   "outputs": [
    {
     "data": {
      "text/plain": [
       "2.8"
      ]
     },
     "execution_count": 7,
     "metadata": {},
     "output_type": "execute_result"
    }
   ],
   "source": [
    "st.mean(a)"
   ]
  },
  {
   "cell_type": "code",
   "execution_count": 8,
   "id": "978eeab4",
   "metadata": {},
   "outputs": [
    {
     "data": {
      "text/plain": [
       "3"
      ]
     },
     "execution_count": 8,
     "metadata": {},
     "output_type": "execute_result"
    }
   ],
   "source": [
    "#lets find median and mode\n",
    "st.median(a)\n",
    "st.mode(a)"
   ]
  },
  {
   "cell_type": "code",
   "execution_count": 9,
   "id": "d8a7ecf5",
   "metadata": {},
   "outputs": [
    {
     "data": {
      "text/plain": [
       "1.4832396974191326"
      ]
     },
     "execution_count": 9,
     "metadata": {},
     "output_type": "execute_result"
    }
   ],
   "source": [
    "#lets find the standard deviation\n",
    "st.stdev(a)"
   ]
  },
  {
   "cell_type": "code",
   "execution_count": 10,
   "id": "85f6795c",
   "metadata": {},
   "outputs": [
    {
     "data": {
      "text/plain": [
       "2.2"
      ]
     },
     "execution_count": 10,
     "metadata": {},
     "output_type": "execute_result"
    }
   ],
   "source": [
    "#variance squart root is standard deviation\n",
    "st.variance(a)"
   ]
  },
  {
   "cell_type": "code",
   "execution_count": 11,
   "id": "86061686",
   "metadata": {},
   "outputs": [],
   "source": [
    "#lets find the qunatile range\n",
    "quantile_range = st.quantiles(a)"
   ]
  },
  {
   "cell_type": "code",
   "execution_count": 12,
   "id": "70d04bff",
   "metadata": {},
   "outputs": [
    {
     "data": {
      "text/plain": [
       "[1.5, 3.0, 4.0]"
      ]
     },
     "execution_count": 12,
     "metadata": {},
     "output_type": "execute_result"
    }
   ],
   "source": [
    "quantile_range"
   ]
  },
  {
   "cell_type": "code",
   "execution_count": 13,
   "id": "1fd5a7f4",
   "metadata": {},
   "outputs": [
    {
     "data": {
      "text/plain": [
       "2.5"
      ]
     },
     "execution_count": 13,
     "metadata": {},
     "output_type": "execute_result"
    }
   ],
   "source": [
    "quantile_range[2] - quantile_range[0]"
   ]
  },
  {
   "cell_type": "code",
   "execution_count": 14,
   "id": "e5dc5834",
   "metadata": {},
   "outputs": [],
   "source": [
    "import matplotlib.pyplot as plt\n",
    "import seaborn as sns"
   ]
  },
  {
   "cell_type": "code",
   "execution_count": 15,
   "id": "2de05b05",
   "metadata": {},
   "outputs": [
    {
     "name": "stderr",
     "output_type": "stream",
     "text": [
      "C:\\Users\\svive\\anaconda3\\lib\\site-packages\\seaborn\\_decorators.py:36: FutureWarning: Pass the following variable as a keyword arg: x. From version 0.12, the only valid positional argument will be `data`, and passing other arguments without an explicit keyword will result in an error or misinterpretation.\n",
      "  warnings.warn(\n"
     ]
    },
    {
     "data": {
      "text/plain": [
       "<AxesSubplot:>"
      ]
     },
     "execution_count": 15,
     "metadata": {},
     "output_type": "execute_result"
    },
    {
     "data": {
      "image/png": "[encoded data removed]",
      "text/plain": [
       "<Figure size 432x288 with 1 Axes>"
      ]
     },
     "metadata": {
      "needs_background": "light"
     },
     "output_type": "display_data"
    }
   ],
   "source": [
    "sns.boxplot(a)"
   ]
  },
  {
   "cell_type": "code",
   "execution_count": 16,
   "id": "eab6d9fe",
   "metadata": {},
   "outputs": [],
   "source": [
    "#Now will use numpy \n",
    "import numpy as np"
   ]
  },
  {
   "cell_type": "code",
   "execution_count": 18,
   "id": "de852b62",
   "metadata": {},
   "outputs": [
    {
     "data": {
      "text/plain": [
       "list"
      ]
     },
     "execution_count": 18,
     "metadata": {},
     "output_type": "execute_result"
    }
   ],
   "source": [
    "type(a)"
   ]
  },
  {
   "cell_type": "code",
   "execution_count": 19,
   "id": "b907ba8f",
   "metadata": {},
   "outputs": [],
   "source": [
    "b =np.array(a)"
   ]
  },
  {
   "cell_type": "code",
   "execution_count": 20,
   "id": "9f10e06e",
   "metadata": {},
   "outputs": [
    {
     "data": {
      "text/plain": [
       "numpy.ndarray"
      ]
     },
     "execution_count": 20,
     "metadata": {},
     "output_type": "execute_result"
    }
   ],
   "source": [
    "type(b)"
   ]
  },
  {
   "cell_type": "code",
   "execution_count": 21,
   "id": "2c742648",
   "metadata": {},
   "outputs": [
    {
     "data": {
      "text/plain": [
       "array([0, 1, 2, 3, 4, 5, 6, 7, 8, 9])"
      ]
     },
     "execution_count": 21,
     "metadata": {},
     "output_type": "execute_result"
    }
   ],
   "source": [
    "#lets create a array between range\n",
    "np.array(range(0,10))"
   ]
  },
  {
   "cell_type": "code",
   "execution_count": 22,
   "id": "89ef83ad",
   "metadata": {},
   "outputs": [
    {
     "data": {
      "text/plain": [
       "array([1., 3., 5., 7.])"
      ]
     },
     "execution_count": 22,
     "metadata": {},
     "output_type": "execute_result"
    }
   ],
   "source": [
    "#linespace() it gives the number between the range in float value\n",
    "np.linspace(1, 7, 4) # start, stop, and how many numbers you want"
   ]
  },
  {
   "cell_type": "code",
   "execution_count": 23,
   "id": "f6f24587",
   "metadata": {},
   "outputs": [
    {
     "data": {
      "text/plain": [
       "array([[ 1,  2,  3],\n",
       "       [10, 20, 30]])"
      ]
     },
     "execution_count": 23,
     "metadata": {},
     "output_type": "execute_result"
    }
   ],
   "source": [
    "#lets make a 2d array\n",
    "c = [[1, 2, 3],[10,20,30]]\n",
    "np.array(c)"
   ]
  },
  {
   "cell_type": "code",
   "execution_count": 24,
   "id": "21688011",
   "metadata": {},
   "outputs": [
    {
     "data": {
      "text/plain": [
       "array([[0., 0., 0., 0.],\n",
       "       [0., 0., 0., 0.],\n",
       "       [0., 0., 0., 0.]])"
      ]
     },
     "execution_count": 24,
     "metadata": {},
     "output_type": "execute_result"
    }
   ],
   "source": [
    "#lets create a matrix of zero now\n",
    "np.zeros((3,4))#we need to give shape in tuple"
   ]
  },
  {
   "cell_type": "code",
   "execution_count": 25,
   "id": "a7148f5c",
   "metadata": {},
   "outputs": [],
   "source": [
    "#lets make matrix with 1 to 30 number\n",
    "thirty_num = np.linspace(0, 29, 30)\n"
   ]
  },
  {
   "cell_type": "code",
   "execution_count": 29,
   "id": "69643579",
   "metadata": {},
   "outputs": [
    {
     "data": {
      "text/plain": [
       "array([[ 0.,  1.,  2.,  3.,  4.,  5.,  6.,  7.,  8.,  9.],\n",
       "       [10., 11., 12., 13., 14., 15., 16., 17., 18., 19.],\n",
       "       [20., 21., 22., 23., 24., 25., 26., 27., 28., 29.]])"
      ]
     },
     "execution_count": 29,
     "metadata": {},
     "output_type": "execute_result"
    }
   ],
   "source": [
    "thirty_num.reshape((3, 10))"
   ]
  },
  {
   "cell_type": "code",
   "execution_count": null,
   "id": "1052321a",
   "metadata": {},
   "outputs": [],
   "source": []
  }
 ],
 "metadata": {
  "kernelspec": {
   "display_name": "Python 3 (ipykernel)",
   "language": "python",
   "name": "python3"
  },
  "language_info": {
   "codemirror_mode": {
    "name": "ipython",
    "version": 3
   },
   "file_extension": ".py",
   "mimetype": "text/x-python",
   "name": "python",
   "nbconvert_exporter": "python",
   "pygments_lexer": "ipython3",
   "version": "3.9.7"
  }
 },
 "nbformat": 4,
 "nbformat_minor": 5
}
