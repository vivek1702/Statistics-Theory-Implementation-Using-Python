{
 "cells": [
  {
   "cell_type": "code",
   "execution_count": 29,
   "id": "6b9411fc",
   "metadata": {},
   "outputs": [],
   "source": [
    "import numpy as np\n",
    "import pandas as pd\n",
    "import matplotlib.pyplot as plt\n",
    "import seaborn as sns\n",
    "from scipy.stats import stats\n",
    "from scipy.stats import binom_test\n",
    "from scipy.stats import chi2\n",
    "from statsmodels.stats import weightstats\n"
   ]
  },
  {
   "cell_type": "code",
   "execution_count": 2,
   "id": "8a84abee",
   "metadata": {},
   "outputs": [],
   "source": [
    "data1 = pd.read_csv(r'C:\\Users\\svive\\Statistics Notes Using Python/Machine1.csv')"
   ]
  },
  {
   "cell_type": "code",
   "execution_count": 3,
   "id": "4ec9f2f7",
   "metadata": {},
   "outputs": [
    {
     "data": {
      "text/html": [
       "<div>\n",
       "<style scoped>\n",
       "    .dataframe tbody tr th:only-of-type {\n",
       "        vertical-align: middle;\n",
       "    }\n",
       "\n",
       "    .dataframe tbody tr th {\n",
       "        vertical-align: top;\n",
       "    }\n",
       "\n",
       "    .dataframe thead th {\n",
       "        text-align: right;\n",
       "    }\n",
       "</style>\n",
       "<table border=\"1\" class=\"dataframe\">\n",
       "  <thead>\n",
       "    <tr style=\"text-align: right;\">\n",
       "      <th></th>\n",
       "      <th>Machine 1</th>\n",
       "    </tr>\n",
       "  </thead>\n",
       "  <tbody>\n",
       "    <tr>\n",
       "      <th>0</th>\n",
       "      <td>152.63</td>\n",
       "    </tr>\n",
       "    <tr>\n",
       "      <th>1</th>\n",
       "      <td>152.94</td>\n",
       "    </tr>\n",
       "    <tr>\n",
       "      <th>2</th>\n",
       "      <td>151.29</td>\n",
       "    </tr>\n",
       "    <tr>\n",
       "      <th>3</th>\n",
       "      <td>153.44</td>\n",
       "    </tr>\n",
       "    <tr>\n",
       "      <th>4</th>\n",
       "      <td>148.58</td>\n",
       "    </tr>\n",
       "  </tbody>\n",
       "</table>\n",
       "</div>"
      ],
      "text/plain": [
       "   Machine 1\n",
       "0     152.63\n",
       "1     152.94\n",
       "2     151.29\n",
       "3     153.44\n",
       "4     148.58"
      ]
     },
     "execution_count": 3,
     "metadata": {},
     "output_type": "execute_result"
    }
   ],
   "source": [
    "data1.head()"
   ]
  },
  {
   "cell_type": "code",
   "execution_count": 4,
   "id": "ec4a0ade",
   "metadata": {},
   "outputs": [
    {
     "data": {
      "text/html": [
       "<div>\n",
       "<style scoped>\n",
       "    .dataframe tbody tr th:only-of-type {\n",
       "        vertical-align: middle;\n",
       "    }\n",
       "\n",
       "    .dataframe tbody tr th {\n",
       "        vertical-align: top;\n",
       "    }\n",
       "\n",
       "    .dataframe thead th {\n",
       "        text-align: right;\n",
       "    }\n",
       "</style>\n",
       "<table border=\"1\" class=\"dataframe\">\n",
       "  <thead>\n",
       "    <tr style=\"text-align: right;\">\n",
       "      <th></th>\n",
       "      <th>Machine 1</th>\n",
       "    </tr>\n",
       "  </thead>\n",
       "  <tbody>\n",
       "    <tr>\n",
       "      <th>count</th>\n",
       "      <td>100.000000</td>\n",
       "    </tr>\n",
       "    <tr>\n",
       "      <th>mean</th>\n",
       "      <td>150.203100</td>\n",
       "    </tr>\n",
       "    <tr>\n",
       "      <th>std</th>\n",
       "      <td>2.018812</td>\n",
       "    </tr>\n",
       "    <tr>\n",
       "      <th>min</th>\n",
       "      <td>145.550000</td>\n",
       "    </tr>\n",
       "    <tr>\n",
       "      <th>25%</th>\n",
       "      <td>148.717500</td>\n",
       "    </tr>\n",
       "    <tr>\n",
       "      <th>50%</th>\n",
       "      <td>150.285000</td>\n",
       "    </tr>\n",
       "    <tr>\n",
       "      <th>75%</th>\n",
       "      <td>151.502500</td>\n",
       "    </tr>\n",
       "    <tr>\n",
       "      <th>max</th>\n",
       "      <td>154.550000</td>\n",
       "    </tr>\n",
       "  </tbody>\n",
       "</table>\n",
       "</div>"
      ],
      "text/plain": [
       "        Machine 1\n",
       "count  100.000000\n",
       "mean   150.203100\n",
       "std      2.018812\n",
       "min    145.550000\n",
       "25%    148.717500\n",
       "50%    150.285000\n",
       "75%    151.502500\n",
       "max    154.550000"
      ]
     },
     "execution_count": 4,
     "metadata": {},
     "output_type": "execute_result"
    }
   ],
   "source": [
    "data1.describe()"
   ]
  },
  {
   "cell_type": "code",
   "execution_count": 5,
   "id": "411bd912",
   "metadata": {},
   "outputs": [
    {
     "data": {
      "text/plain": [
       "<seaborn.axisgrid.FacetGrid at 0x25161a4e730>"
      ]
     },
     "execution_count": 5,
     "metadata": {},
     "output_type": "execute_result"
    },
    {
     "data": {
      "image/png": "[encoded data removed]",
      "text/plain": [
       "<Figure size 447.5x360 with 1 Axes>"
      ]
     },
     "metadata": {
      "needs_background": "light"
     },
     "output_type": "display_data"
    }
   ],
   "source": [
    "sns.displot(data=data1)"
   ]
  },
  {
   "cell_type": "code",
   "execution_count": 6,
   "id": "4befc965",
   "metadata": {},
   "outputs": [
    {
     "data": {
      "text/plain": [
       "<AxesSubplot:>"
      ]
     },
     "execution_count": 6,
     "metadata": {},
     "output_type": "execute_result"
    },
    {
     "data": {
      "image/png": "[encoded data removed]",
      "text/plain": [
       "<Figure size 432x288 with 1 Axes>"
      ]
     },
     "metadata": {
      "needs_background": "light"
     },
     "output_type": "display_data"
    }
   ],
   "source": [
    "#lets make a box plot on this\n",
    "sns.boxplot(data=data1)"
   ]
  },
  {
   "cell_type": "code",
   "execution_count": null,
   "id": "a2c97632",
   "metadata": {},
   "outputs": [],
   "source": [
    "# Now lets look at z-test, we don't have z-test in scipy thats why we choose statsmodel"
   ]
  },
  {
   "cell_type": "code",
   "execution_count": 7,
   "id": "c82da4d5",
   "metadata": {},
   "outputs": [
    {
     "data": {
      "text/plain": [
       "(1.0060370247722599, 0.3143977600779597)"
      ]
     },
     "execution_count": 7,
     "metadata": {},
     "output_type": "execute_result"
    }
   ],
   "source": [
    "weightstats.ztest(x1=data1['Machine 1'], value=150, alternative='two-sided')"
   ]
  },
  {
   "cell_type": "code",
   "execution_count": null,
   "id": "4fd8bc98",
   "metadata": {},
   "outputs": [],
   "source": [
    "#here first value is z-calculted and second value is p value\n",
    "# and p-value is higher than alpha value 0.05 so we fail to reject null hypothesis"
   ]
  },
  {
   "cell_type": "markdown",
   "id": "056f887b",
   "metadata": {},
   "source": [
    "T-test using python"
   ]
  },
  {
   "cell_type": "code",
   "execution_count": 8,
   "id": "75d599e1",
   "metadata": {},
   "outputs": [],
   "source": [
    "volume = pd.Series([148.5, 153.4, 150.9, 151.2])"
   ]
  },
  {
   "cell_type": "code",
   "execution_count": 9,
   "id": "00d354a1",
   "metadata": {},
   "outputs": [
    {
     "data": {
      "text/plain": [
       "count      4.000000\n",
       "mean     151.000000\n",
       "std        2.004994\n",
       "min      148.500000\n",
       "25%      150.300000\n",
       "50%      151.050000\n",
       "75%      151.750000\n",
       "max      153.400000\n",
       "dtype: float64"
      ]
     },
     "execution_count": 9,
     "metadata": {},
     "output_type": "execute_result"
    }
   ],
   "source": [
    "volume.describe()"
   ]
  },
  {
   "cell_type": "code",
   "execution_count": 10,
   "id": "04d18516",
   "metadata": {},
   "outputs": [
    {
     "data": {
      "text/plain": [
       "Ttest_1sampResult(statistic=0.997509336107632, pvalue=0.3920333832606524)"
      ]
     },
     "execution_count": 10,
     "metadata": {},
     "output_type": "execute_result"
    }
   ],
   "source": [
    "stats.ttest_1samp(volume, 150) #150 is the data where i am comparing it with the volume"
   ]
  },
  {
   "cell_type": "markdown",
   "id": "b320fb19",
   "metadata": {},
   "source": [
    "#p value is higher than alpha so we fail to reject null hypothesis\n"
   ]
  },
  {
   "cell_type": "code",
   "execution_count": null,
   "id": "4dd7e45a",
   "metadata": {},
   "outputs": [],
   "source": [
    "#One proportion test"
   ]
  },
  {
   "cell_type": "markdown",
   "id": "5608dd23",
   "metadata": {},
   "source": [
    "example : somking rate in town is 21 %, 100 samples were picked and found 14 smokers, \n",
    "- has smoking habit changed ?\n",
    "- has smoking habit reduced ?"
   ]
  },
  {
   "cell_type": "code",
   "execution_count": 19,
   "id": "43e5bd99",
   "metadata": {},
   "outputs": [
    {
     "data": {
      "text/plain": [
       "0.10920815720825927"
      ]
     },
     "execution_count": 19,
     "metadata": {},
     "output_type": "execute_result"
    }
   ],
   "source": [
    "binom_test(14, n=100, p=0.21, alternative='two-sided')"
   ]
  },
  {
   "cell_type": "code",
   "execution_count": 22,
   "id": "2d5a4bc7",
   "metadata": {},
   "outputs": [],
   "source": [
    "df2 = pd.read_csv(r'C:\\Users\\svive\\Statistics Notes Using Python/Smokers.csv')"
   ]
  },
  {
   "cell_type": "code",
   "execution_count": 23,
   "id": "f3b75a43",
   "metadata": {},
   "outputs": [
    {
     "data": {
      "text/html": [
       "<div>\n",
       "<style scoped>\n",
       "    .dataframe tbody tr th:only-of-type {\n",
       "        vertical-align: middle;\n",
       "    }\n",
       "\n",
       "    .dataframe tbody tr th {\n",
       "        vertical-align: top;\n",
       "    }\n",
       "\n",
       "    .dataframe thead th {\n",
       "        text-align: right;\n",
       "    }\n",
       "</style>\n",
       "<table border=\"1\" class=\"dataframe\">\n",
       "  <thead>\n",
       "    <tr style=\"text-align: right;\">\n",
       "      <th></th>\n",
       "      <th>Name</th>\n",
       "      <th>Smokers</th>\n",
       "    </tr>\n",
       "  </thead>\n",
       "  <tbody>\n",
       "    <tr>\n",
       "      <th>0</th>\n",
       "      <td>Person 1</td>\n",
       "      <td>No</td>\n",
       "    </tr>\n",
       "    <tr>\n",
       "      <th>1</th>\n",
       "      <td>Person 2</td>\n",
       "      <td>No</td>\n",
       "    </tr>\n",
       "    <tr>\n",
       "      <th>2</th>\n",
       "      <td>Person 3</td>\n",
       "      <td>No</td>\n",
       "    </tr>\n",
       "    <tr>\n",
       "      <th>3</th>\n",
       "      <td>Person 4</td>\n",
       "      <td>Yes</td>\n",
       "    </tr>\n",
       "    <tr>\n",
       "      <th>4</th>\n",
       "      <td>Person 5</td>\n",
       "      <td>No</td>\n",
       "    </tr>\n",
       "  </tbody>\n",
       "</table>\n",
       "</div>"
      ],
      "text/plain": [
       "       Name Smokers\n",
       "0  Person 1      No\n",
       "1  Person 2      No\n",
       "2  Person 3      No\n",
       "3  Person 4     Yes\n",
       "4  Person 5      No"
      ]
     },
     "execution_count": 23,
     "metadata": {},
     "output_type": "execute_result"
    }
   ],
   "source": [
    "df2.head()"
   ]
  },
  {
   "cell_type": "code",
   "execution_count": 25,
   "id": "f750640d",
   "metadata": {},
   "outputs": [],
   "source": [
    "smk = df2.groupby('Smokers').count()"
   ]
  },
  {
   "cell_type": "code",
   "execution_count": 26,
   "id": "374c248b",
   "metadata": {},
   "outputs": [],
   "source": [
    "#no reindex this \n",
    "smk = smk.reindex(['Yes','No'])"
   ]
  },
  {
   "cell_type": "code",
   "execution_count": 27,
   "id": "2d4ba039",
   "metadata": {},
   "outputs": [
    {
     "data": {
      "text/html": [
       "<div>\n",
       "<style scoped>\n",
       "    .dataframe tbody tr th:only-of-type {\n",
       "        vertical-align: middle;\n",
       "    }\n",
       "\n",
       "    .dataframe tbody tr th {\n",
       "        vertical-align: top;\n",
       "    }\n",
       "\n",
       "    .dataframe thead th {\n",
       "        text-align: right;\n",
       "    }\n",
       "</style>\n",
       "<table border=\"1\" class=\"dataframe\">\n",
       "  <thead>\n",
       "    <tr style=\"text-align: right;\">\n",
       "      <th></th>\n",
       "      <th>Name</th>\n",
       "    </tr>\n",
       "    <tr>\n",
       "      <th>Smokers</th>\n",
       "      <th></th>\n",
       "    </tr>\n",
       "  </thead>\n",
       "  <tbody>\n",
       "    <tr>\n",
       "      <th>Yes</th>\n",
       "      <td>14</td>\n",
       "    </tr>\n",
       "    <tr>\n",
       "      <th>No</th>\n",
       "      <td>86</td>\n",
       "    </tr>\n",
       "  </tbody>\n",
       "</table>\n",
       "</div>"
      ],
      "text/plain": [
       "         Name\n",
       "Smokers      \n",
       "Yes        14\n",
       "No         86"
      ]
     },
     "execution_count": 27,
     "metadata": {},
     "output_type": "execute_result"
    }
   ],
   "source": [
    "smk"
   ]
  },
  {
   "cell_type": "code",
   "execution_count": 28,
   "id": "51d1d132",
   "metadata": {},
   "outputs": [
    {
     "data": {
      "text/plain": [
       "array([0.10920816])"
      ]
     },
     "execution_count": 28,
     "metadata": {},
     "output_type": "execute_result"
    }
   ],
   "source": [
    "binom_test(smk, p=0.21)"
   ]
  },
  {
   "cell_type": "markdown",
   "id": "0828f42d",
   "metadata": {},
   "source": [
    "One Variance Test"
   ]
  },
  {
   "cell_type": "markdown",
   "id": "84f2ba1a",
   "metadata": {},
   "source": [
    "EX- A sample of 51 bottle was selected and the standard deviation of there bottles is 2.35 cc\n",
    "has it increased from the established 2cc ? 90% confidence interval\n",
    "\n",
    "z(cal) = (n-1)s^2/sigma^2"
   ]
  },
  {
   "cell_type": "code",
   "execution_count": 31,
   "id": "eaf4919b",
   "metadata": {},
   "outputs": [
    {
     "data": {
      "text/plain": [
       "<AxesSubplot:>"
      ]
     },
     "execution_count": 31,
     "metadata": {},
     "output_type": "execute_result"
    },
    {
     "data": {
      "image/png": "[encoded data removed]",
      "text/plain": [
       "<Figure size 432x288 with 1 Axes>"
      ]
     },
     "metadata": {
      "needs_background": "light"
     },
     "output_type": "display_data"
    }
   ],
   "source": [
    "x_ax = np.linspace(0, 100, 101)\n",
    "x_yx = chi2.pdf(x_ax, df=50)\n",
    "sns.regplot(x=x_ax, y=x_yx)"
   ]
  },
  {
   "cell_type": "code",
   "execution_count": null,
   "id": "f6e1624e",
   "metadata": {},
   "outputs": [],
   "source": []
  }
 ],
 "metadata": {
  "kernelspec": {
   "display_name": "Python 3 (ipykernel)",
   "language": "python",
   "name": "python3"
  },
  "language_info": {
   "codemirror_mode": {
    "name": "ipython",
    "version": 3
   },
   "file_extension": ".py",
   "mimetype": "text/x-python",
   "name": "python",
   "nbconvert_exporter": "python",
   "pygments_lexer": "ipython3",
   "version": "3.9.7"
  }
 },
 "nbformat": 4,
 "nbformat_minor": 5
}
