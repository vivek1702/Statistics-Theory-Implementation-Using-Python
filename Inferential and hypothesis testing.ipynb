{
 "cells": [
  {
   "cell_type": "code",
   "execution_count": 36,
   "id": "fc4b5dfc",
   "metadata": {},
   "outputs": [],
   "source": [
    "#central limit theorm\n",
    "import numpy as np \n",
    "import pandas as pd\n",
    "import matplotlib.pyplot as plt\n",
    "import seaborn as sns\n",
    "from scipy.stats import norm\n",
    "#the data looks like uniform distribution but when we take the mean of the data it looks like normal distritbution"
   ]
  },
  {
   "cell_type": "code",
   "execution_count": 3,
   "id": "0bb126f6",
   "metadata": {},
   "outputs": [],
   "source": [
    "one_hundred_coin_flip = np.random.randint(1, 7, 100)"
   ]
  },
  {
   "cell_type": "code",
   "execution_count": 4,
   "id": "859d50a7",
   "metadata": {},
   "outputs": [
    {
     "data": {
      "text/plain": [
       "array([4, 6, 1, 5, 5, 2, 5, 2, 6, 4, 1, 2, 2, 1, 2, 5, 6, 6, 4, 3, 6, 4,\n",
       "       4, 6, 2, 5, 3, 5, 2, 4, 5, 6, 1, 4, 4, 3, 3, 6, 1, 2, 2, 5, 4, 4,\n",
       "       5, 2, 2, 4, 5, 2, 6, 3, 6, 5, 1, 3, 4, 5, 4, 3, 3, 5, 4, 2, 6, 3,\n",
       "       5, 5, 5, 3, 2, 3, 2, 4, 3, 3, 4, 6, 1, 5, 6, 4, 1, 1, 1, 1, 1, 1,\n",
       "       5, 3, 5, 6, 5, 5, 2, 6, 1, 4, 2, 6])"
      ]
     },
     "execution_count": 4,
     "metadata": {},
     "output_type": "execute_result"
    }
   ],
   "source": [
    "one_hundred_coin_flip"
   ]
  },
  {
   "cell_type": "code",
   "execution_count": 5,
   "id": "56c67a29",
   "metadata": {},
   "outputs": [
    {
     "data": {
      "text/plain": [
       "array([[4, 6, 1, 5],\n",
       "       [5, 2, 5, 2],\n",
       "       [6, 4, 1, 2],\n",
       "       [2, 1, 2, 5],\n",
       "       [6, 6, 4, 3],\n",
       "       [6, 4, 4, 6],\n",
       "       [2, 5, 3, 5],\n",
       "       [2, 4, 5, 6],\n",
       "       [1, 4, 4, 3],\n",
       "       [3, 6, 1, 2],\n",
       "       [2, 5, 4, 4],\n",
       "       [5, 2, 2, 4],\n",
       "       [5, 2, 6, 3],\n",
       "       [6, 5, 1, 3],\n",
       "       [4, 5, 4, 3],\n",
       "       [3, 5, 4, 2],\n",
       "       [6, 3, 5, 5],\n",
       "       [5, 3, 2, 3],\n",
       "       [2, 4, 3, 3],\n",
       "       [4, 6, 1, 5],\n",
       "       [6, 4, 1, 1],\n",
       "       [1, 1, 1, 1],\n",
       "       [5, 3, 5, 6],\n",
       "       [5, 5, 2, 6],\n",
       "       [1, 4, 2, 6]])"
      ]
     },
     "execution_count": 5,
     "metadata": {},
     "output_type": "execute_result"
    }
   ],
   "source": [
    "#now rehaping it to matrix to find mean of each row\n",
    "one_hundred_coin_flip.reshape(25, 4)"
   ]
  },
  {
   "cell_type": "code",
   "execution_count": 6,
   "id": "b8fb9dc9",
   "metadata": {},
   "outputs": [
    {
     "data": {
      "text/plain": [
       "array([4.  , 3.5 , 3.25, 2.5 , 4.75, 5.  , 3.75, 4.25, 3.  , 3.  , 3.75,\n",
       "       3.25, 4.  , 3.75, 4.  , 3.5 , 4.75, 3.25, 3.  , 4.  , 3.  , 1.  ,\n",
       "       4.75, 4.5 , 3.25])"
      ]
     },
     "execution_count": 6,
     "metadata": {},
     "output_type": "execute_result"
    }
   ],
   "source": [
    "one_hundred_coin_flip.reshape(25, 4).mean(axis=1)"
   ]
  },
  {
   "cell_type": "code",
   "execution_count": 9,
   "id": "e89b91b6",
   "metadata": {},
   "outputs": [
    {
     "data": {
      "text/plain": [
       "<seaborn.axisgrid.FacetGrid at 0x2f076c71160>"
      ]
     },
     "execution_count": 9,
     "metadata": {},
     "output_type": "execute_result"
    },
    {
     "data": {
      "image/png": "[encoded data removed]",
      "text/plain": [
       "<Figure size 360x360 with 1 Axes>"
      ]
     },
     "metadata": {
      "needs_background": "light"
     },
     "output_type": "display_data"
    }
   ],
   "source": [
    "sns.displot(x=one_hundred_coin_flip, bins=6)\n",
    "#if this would be a 1 millon times flip then data looks like normal distribution"
   ]
  },
  {
   "cell_type": "code",
   "execution_count": 11,
   "id": "5cb18b54",
   "metadata": {},
   "outputs": [
    {
     "data": {
      "text/plain": [
       "array([[3, 1, 6, 3],\n",
       "       [5, 5, 3, 5],\n",
       "       [5, 5, 4, 1],\n",
       "       ...,\n",
       "       [5, 2, 3, 3],\n",
       "       [4, 4, 4, 2],\n",
       "       [2, 2, 4, 5]])"
      ]
     },
     "execution_count": 11,
     "metadata": {},
     "output_type": "execute_result"
    }
   ],
   "source": [
    "one_million_coin_flip = np.random.randint(1, 7, 1000000)\n",
    "one_million_coin_flip.reshape(250000, 4)"
   ]
  },
  {
   "cell_type": "code",
   "execution_count": 15,
   "id": "823c22da",
   "metadata": {},
   "outputs": [],
   "source": [
    "meanval = one_million_coin_flip.reshape(250000, 4).mean(axis=1)"
   ]
  },
  {
   "cell_type": "code",
   "execution_count": 16,
   "id": "0158f160",
   "metadata": {},
   "outputs": [
    {
     "data": {
      "text/plain": [
       "<seaborn.axisgrid.FacetGrid at 0x2f0768e37c0>"
      ]
     },
     "execution_count": 16,
     "metadata": {},
     "output_type": "execute_result"
    },
    {
     "data": {
      "image/png": "[encoded data removed]",
      "text/plain": [
       "<Figure size 360x360 with 1 Axes>"
      ]
     },
     "metadata": {
      "needs_background": "light"
     },
     "output_type": "display_data"
    }
   ],
   "source": [
    "sns.displot(x=meanval, bins=6)\n",
    "#the bigger the size sample is the graph looks like normal ditribution"
   ]
  },
  {
   "cell_type": "code",
   "execution_count": 17,
   "id": "a5745793",
   "metadata": {},
   "outputs": [
    {
     "data": {
      "text/plain": [
       "3.504896"
      ]
     },
     "execution_count": 17,
     "metadata": {},
     "output_type": "execute_result"
    }
   ],
   "source": [
    "#now lets find the mean and std of this data\n",
    "meanval.mean()"
   ]
  },
  {
   "cell_type": "code",
   "execution_count": 18,
   "id": "0c8d15f7",
   "metadata": {},
   "outputs": [
    {
     "data": {
      "text/plain": [
       "0.85318669069788"
      ]
     },
     "execution_count": 18,
     "metadata": {},
     "output_type": "execute_result"
    }
   ],
   "source": [
    "meanval.std()"
   ]
  },
  {
   "cell_type": "code",
   "execution_count": 19,
   "id": "64c5ee05",
   "metadata": {},
   "outputs": [],
   "source": [
    "#here is the assignments \n",
    "a = np.random.normal(100, 5, 1000)\n",
    "b = np.random.normal(80, 5, 1000)\n",
    "merge_data = np.append(a, b)\n",
    "np.random.shuffle(merge_data)"
   ]
  },
  {
   "cell_type": "code",
   "execution_count": 20,
   "id": "bc161cae",
   "metadata": {},
   "outputs": [
    {
     "name": "stderr",
     "output_type": "stream",
     "text": [
      "C:\\Users\\svive\\anaconda3\\lib\\site-packages\\seaborn\\distributions.py:2619: FutureWarning: `distplot` is a deprecated function and will be removed in a future version. Please adapt your code to use either `displot` (a figure-level function with similar flexibility) or `histplot` (an axes-level function for histograms).\n",
      "  warnings.warn(msg, FutureWarning)\n"
     ]
    },
    {
     "data": {
      "text/plain": [
       "<AxesSubplot:ylabel='Density'>"
      ]
     },
     "execution_count": 20,
     "metadata": {},
     "output_type": "execute_result"
    },
    {
     "data": {
      "image/png": "[encoded data removed]",
      "text/plain": [
       "<Figure size 432x288 with 1 Axes>"
      ]
     },
     "metadata": {
      "needs_background": "light"
     },
     "output_type": "display_data"
    }
   ],
   "source": [
    "sns.distplot(x=merge_data)\n",
    "#this data gives a two normal distribution curve now lets find mean and std of the data"
   ]
  },
  {
   "cell_type": "code",
   "execution_count": 30,
   "id": "0a67ebe1",
   "metadata": {},
   "outputs": [
    {
     "data": {
      "text/plain": [
       "90.01186254483787"
      ]
     },
     "execution_count": 30,
     "metadata": {},
     "output_type": "execute_result"
    }
   ],
   "source": [
    "merge_data.mean()"
   ]
  },
  {
   "cell_type": "code",
   "execution_count": 31,
   "id": "4dcdd4bb",
   "metadata": {},
   "outputs": [
    {
     "data": {
      "text/plain": [
       "11.096245553033613"
      ]
     },
     "execution_count": 31,
     "metadata": {},
     "output_type": "execute_result"
    }
   ],
   "source": [
    "merge_data.std()"
   ]
  },
  {
   "cell_type": "code",
   "execution_count": 27,
   "id": "47542c7a",
   "metadata": {},
   "outputs": [],
   "source": [
    "#rechaping the data and then find the mean then making a plot of it \n",
    "merge_data_mean = np.round(merge_data.reshape(500, 4), 2).mean(axis=1)"
   ]
  },
  {
   "cell_type": "code",
   "execution_count": 29,
   "id": "68f94e6c",
   "metadata": {},
   "outputs": [
    {
     "data": {
      "text/plain": [
       "<seaborn.axisgrid.FacetGrid at 0x2f079710c70>"
      ]
     },
     "execution_count": 29,
     "metadata": {},
     "output_type": "execute_result"
    },
    {
     "data": {
      "image/png": "[encoded data removed]",
      "text/plain": [
       "<Figure size 360x360 with 1 Axes>"
      ]
     },
     "metadata": {
      "needs_background": "light"
     },
     "output_type": "display_data"
    }
   ],
   "source": [
    "sns.displot(x=merge_data_mean)"
   ]
  },
  {
   "cell_type": "code",
   "execution_count": 32,
   "id": "97b059d7",
   "metadata": {},
   "outputs": [
    {
     "data": {
      "text/plain": [
       "90.01179499999999"
      ]
     },
     "execution_count": 32,
     "metadata": {},
     "output_type": "execute_result"
    }
   ],
   "source": [
    "#mean of the mean_merge_data value\n",
    "merge_data_mean.mean()"
   ]
  },
  {
   "cell_type": "code",
   "execution_count": 33,
   "id": "89b956b6",
   "metadata": {},
   "outputs": [
    {
     "data": {
      "text/plain": [
       "5.582405591720741"
      ]
     },
     "execution_count": 33,
     "metadata": {},
     "output_type": "execute_result"
    }
   ],
   "source": [
    "merge_data_mean.std()#standard deviation changes to 5"
   ]
  },
  {
   "cell_type": "markdown",
   "id": "cc88ed91",
   "metadata": {},
   "source": [
    "a machine is producing the perfume bottle with the average of 150cc. the standard deviation of 2cc, 4 bottle was picked and the average volume found was 153.8cc.\n",
    "has the average volume changed from 150cc ?, test with 95% confidence interval"
   ]
  },
  {
   "cell_type": "markdown",
   "id": "4777a0f4",
   "metadata": {},
   "source": [
    "Null Hypothesis: Mean value = 150 cc\n",
    "\n",
    "Alternate Hypothesis : Mean value != 150 cc\n",
    "\n",
    "Standard deviation : 2 cc\n",
    "\n",
    "Alpha = 1-0.95 = 0.05\n",
    "\n",
    "Z calculated = (observed mean - population mean)/standard error =    z = (x-μ)/σ"
   ]
  },
  {
   "cell_type": "code",
   "execution_count": 34,
   "id": "41104498",
   "metadata": {},
   "outputs": [],
   "source": [
    "z_cal = (153.8-150)/(2/np.sqrt(4))"
   ]
  },
  {
   "cell_type": "code",
   "execution_count": 35,
   "id": "bb1c599b",
   "metadata": {},
   "outputs": [
    {
     "data": {
      "text/plain": [
       "3.8000000000000114"
      ]
     },
     "execution_count": 35,
     "metadata": {},
     "output_type": "execute_result"
    }
   ],
   "source": [
    "z_cal"
   ]
  },
  {
   "cell_type": "markdown",
   "id": "5039e839",
   "metadata": {},
   "source": [
    "#important \"loc\" means \"mean\" and \"scale\" is standard deviation\n",
    "#here loc and scale vale are default set"
   ]
  },
  {
   "cell_type": "code",
   "execution_count": null,
   "id": "b4653974",
   "metadata": {},
   "outputs": [],
   "source": [
    "#norm.pdf(x, loc=0, scale=1) probability density function\n",
    "\n",
    "#norm.cdf(x, loc=0, scale=1) cumulative distribution function, area to the left of x\n",
    "\n",
    "#norm.sf(x, loc=0, scale=1) survival function (also define as 1-cdf) but sf is sometimes\n",
    "\n",
    "#norm.ppf(x, loc=0, scale=1) percentage point function (inverse of cdf - percentile)\n",
    "\n",
    "#norm.isf(x, loc=0, scale=1) inverse survival function (inverse of sf)"
   ]
  },
  {
   "cell_type": "code",
   "execution_count": 37,
   "id": "b56477a1",
   "metadata": {},
   "outputs": [
    {
     "data": {
      "text/plain": [
       "0.3989422804014327"
      ]
     },
     "execution_count": 37,
     "metadata": {},
     "output_type": "execute_result"
    }
   ],
   "source": [
    "norm.pdf(0)"
   ]
  },
  {
   "cell_type": "code",
   "execution_count": 38,
   "id": "24430465",
   "metadata": {},
   "outputs": [
    {
     "data": {
      "text/plain": [
       "0.024997895148220435"
      ]
     },
     "execution_count": 38,
     "metadata": {},
     "output_type": "execute_result"
    }
   ],
   "source": [
    "norm.cdf(-1.96)# this gives area left side of the x and we given the vvalue here"
   ]
  },
  {
   "cell_type": "code",
   "execution_count": 40,
   "id": "e233c166",
   "metadata": {},
   "outputs": [
    {
     "data": {
      "text/plain": [
       "-1.9599639845400545"
      ]
     },
     "execution_count": 40,
     "metadata": {},
     "output_type": "execute_result"
    }
   ],
   "source": [
    "norm.ppf(0.025) #herewe given the area and it gives the value"
   ]
  },
  {
   "cell_type": "code",
   "execution_count": 41,
   "id": "79ae2a22",
   "metadata": {},
   "outputs": [
    {
     "data": {
      "text/plain": [
       "0.024997895148220435"
      ]
     },
     "execution_count": 41,
     "metadata": {},
     "output_type": "execute_result"
    }
   ],
   "source": [
    "norm.sf(1.96) #this gives area to the right"
   ]
  },
  {
   "cell_type": "code",
   "execution_count": 42,
   "id": "401c6b96",
   "metadata": {},
   "outputs": [],
   "source": [
    "# lets find the p-value\n",
    "p_value = 2*norm.sf(z_cal)"
   ]
  },
  {
   "cell_type": "code",
   "execution_count": null,
   "id": "d58affb6",
   "metadata": {},
   "outputs": [],
   "source": []
  }
 ],
 "metadata": {
  "kernelspec": {
   "display_name": "Python 3 (ipykernel)",
   "language": "python",
   "name": "python3"
  },
  "language_info": {
   "codemirror_mode": {
    "name": "ipython",
    "version": 3
   },
   "file_extension": ".py",
   "mimetype": "text/x-python",
   "name": "python",
   "nbconvert_exporter": "python",
   "pygments_lexer": "ipython3",
   "version": "3.9.7"
  }
 },
 "nbformat": 4,
 "nbformat_minor": 5
}
