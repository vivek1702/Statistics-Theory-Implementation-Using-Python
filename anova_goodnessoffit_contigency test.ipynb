{
 "cells": [
  {
   "cell_type": "code",
   "execution_count": 13,
   "id": "fbf3954e",
   "metadata": {},
   "outputs": [],
   "source": [
    "import numpy as np\n",
    "import pandas as pd\n",
    "import matplotlib.pyplot as plt\n",
    "import scipy.stats as stats\n",
    "import seaborn as sns\n",
    "from statsmodels.stats import weightstats\n",
    "from statsmodels.stats import proportion\n",
    "import statsmodels.stats.oneway as oneway\n",
    "from statsmodels.stats.multicomp import pairwise_tukeyhsd"
   ]
  },
  {
   "cell_type": "code",
   "execution_count": null,
   "id": "1b4273df",
   "metadata": {},
   "outputs": [],
   "source": [
    "#conducting annova using python\n",
    "#remember we are doing f-test here so will use f_oneway\n"
   ]
  },
  {
   "cell_type": "code",
   "execution_count": 2,
   "id": "c78d1f21",
   "metadata": {},
   "outputs": [],
   "source": [
    "machine1 = [150, 151, 150, 151, 150, 152]\n",
    "machine2 = [153, 152, 148, 151, 149, 152]\n",
    "machine3 = [156, 157, 154, 155, 155, 156]"
   ]
  },
  {
   "cell_type": "code",
   "execution_count": 3,
   "id": "ff6edc8b",
   "metadata": {},
   "outputs": [
    {
     "data": {
      "text/plain": [
       "F_onewayResult(statistic=24.487951807228924, pvalue=1.8860848544258556e-05)"
      ]
     },
     "execution_count": 3,
     "metadata": {},
     "output_type": "execute_result"
    }
   ],
   "source": [
    "stats.f_oneway(machine1, machine2, machine3)"
   ]
  },
  {
   "cell_type": "code",
   "execution_count": 5,
   "id": "6991255d",
   "metadata": {},
   "outputs": [
    {
     "data": {
      "text/plain": [
       "<class 'statsmodels.stats.base.HolderTuple'>\n",
       "statistic = 38.84351301208946\n",
       "pvalue = 3.1385648641664156e-05\n",
       "df = (2.0, 9.259754883511969)\n",
       "df_num = 2.0\n",
       "df_denom = 9.259754883511969\n",
       "nobs_t = 18.0\n",
       "n_groups = 3\n",
       "means = [150.66666667 150.83333333 155.5       ]\n",
       "nobs = [6. 6. 6.]\n",
       "vars_ = [0.66666667 3.76666667 1.1       ]\n",
       "use_var = unequal\n",
       "welch_correction = True\n",
       "tuple = (38.84351301208946, 3.1385648641664156e-05)"
      ]
     },
     "execution_count": 5,
     "metadata": {},
     "output_type": "execute_result"
    }
   ],
   "source": [
    "oneway.anova_oneway((machine1, machine2, machine3))"
   ]
  },
  {
   "cell_type": "code",
   "execution_count": 6,
   "id": "dda662c8",
   "metadata": {},
   "outputs": [
    {
     "data": {
      "text/plain": [
       "['anagrams',\n",
       " 'anscombe',\n",
       " 'attention',\n",
       " 'brain_networks',\n",
       " 'car_crashes',\n",
       " 'diamonds',\n",
       " 'dots',\n",
       " 'dowjones',\n",
       " 'exercise',\n",
       " 'flights',\n",
       " 'fmri',\n",
       " 'geyser',\n",
       " 'glue',\n",
       " 'healthexp',\n",
       " 'iris',\n",
       " 'mpg',\n",
       " 'penguins',\n",
       " 'planets',\n",
       " 'seaice',\n",
       " 'taxis',\n",
       " 'tips',\n",
       " 'titanic']"
      ]
     },
     "execution_count": 6,
     "metadata": {},
     "output_type": "execute_result"
    }
   ],
   "source": [
    "sns.get_dataset_names()"
   ]
  },
  {
   "cell_type": "code",
   "execution_count": 11,
   "id": "09deedf0",
   "metadata": {},
   "outputs": [],
   "source": [
    "#doing post_hock test\n",
    "m13 = pd.concat([pd.DataFrame(data={'volume': machine1, 'machine': 'Machine1'}),\n",
    "pd.DataFrame(data={'volume': machine2, 'machine': 'Machine2'}),\n",
    "pd.DataFrame(data={'volume': machine3, 'machine': 'Machine3'})])"
   ]
  },
  {
   "cell_type": "code",
   "execution_count": 12,
   "id": "79c0b963",
   "metadata": {},
   "outputs": [
    {
     "data": {
      "text/html": [
       "<div>\n",
       "<style scoped>\n",
       "    .dataframe tbody tr th:only-of-type {\n",
       "        vertical-align: middle;\n",
       "    }\n",
       "\n",
       "    .dataframe tbody tr th {\n",
       "        vertical-align: top;\n",
       "    }\n",
       "\n",
       "    .dataframe thead th {\n",
       "        text-align: right;\n",
       "    }\n",
       "</style>\n",
       "<table border=\"1\" class=\"dataframe\">\n",
       "  <thead>\n",
       "    <tr style=\"text-align: right;\">\n",
       "      <th></th>\n",
       "      <th>volume</th>\n",
       "      <th>machine</th>\n",
       "    </tr>\n",
       "  </thead>\n",
       "  <tbody>\n",
       "    <tr>\n",
       "      <th>0</th>\n",
       "      <td>150</td>\n",
       "      <td>Machine1</td>\n",
       "    </tr>\n",
       "    <tr>\n",
       "      <th>1</th>\n",
       "      <td>151</td>\n",
       "      <td>Machine1</td>\n",
       "    </tr>\n",
       "    <tr>\n",
       "      <th>2</th>\n",
       "      <td>150</td>\n",
       "      <td>Machine1</td>\n",
       "    </tr>\n",
       "    <tr>\n",
       "      <th>3</th>\n",
       "      <td>151</td>\n",
       "      <td>Machine1</td>\n",
       "    </tr>\n",
       "    <tr>\n",
       "      <th>4</th>\n",
       "      <td>150</td>\n",
       "      <td>Machine1</td>\n",
       "    </tr>\n",
       "    <tr>\n",
       "      <th>5</th>\n",
       "      <td>152</td>\n",
       "      <td>Machine1</td>\n",
       "    </tr>\n",
       "    <tr>\n",
       "      <th>0</th>\n",
       "      <td>153</td>\n",
       "      <td>Machine2</td>\n",
       "    </tr>\n",
       "    <tr>\n",
       "      <th>1</th>\n",
       "      <td>152</td>\n",
       "      <td>Machine2</td>\n",
       "    </tr>\n",
       "    <tr>\n",
       "      <th>2</th>\n",
       "      <td>148</td>\n",
       "      <td>Machine2</td>\n",
       "    </tr>\n",
       "    <tr>\n",
       "      <th>3</th>\n",
       "      <td>151</td>\n",
       "      <td>Machine2</td>\n",
       "    </tr>\n",
       "    <tr>\n",
       "      <th>4</th>\n",
       "      <td>149</td>\n",
       "      <td>Machine2</td>\n",
       "    </tr>\n",
       "    <tr>\n",
       "      <th>5</th>\n",
       "      <td>152</td>\n",
       "      <td>Machine2</td>\n",
       "    </tr>\n",
       "    <tr>\n",
       "      <th>0</th>\n",
       "      <td>156</td>\n",
       "      <td>Machine3</td>\n",
       "    </tr>\n",
       "    <tr>\n",
       "      <th>1</th>\n",
       "      <td>157</td>\n",
       "      <td>Machine3</td>\n",
       "    </tr>\n",
       "    <tr>\n",
       "      <th>2</th>\n",
       "      <td>154</td>\n",
       "      <td>Machine3</td>\n",
       "    </tr>\n",
       "    <tr>\n",
       "      <th>3</th>\n",
       "      <td>155</td>\n",
       "      <td>Machine3</td>\n",
       "    </tr>\n",
       "    <tr>\n",
       "      <th>4</th>\n",
       "      <td>155</td>\n",
       "      <td>Machine3</td>\n",
       "    </tr>\n",
       "    <tr>\n",
       "      <th>5</th>\n",
       "      <td>156</td>\n",
       "      <td>Machine3</td>\n",
       "    </tr>\n",
       "  </tbody>\n",
       "</table>\n",
       "</div>"
      ],
      "text/plain": [
       "   volume   machine\n",
       "0     150  Machine1\n",
       "1     151  Machine1\n",
       "2     150  Machine1\n",
       "3     151  Machine1\n",
       "4     150  Machine1\n",
       "5     152  Machine1\n",
       "0     153  Machine2\n",
       "1     152  Machine2\n",
       "2     148  Machine2\n",
       "3     151  Machine2\n",
       "4     149  Machine2\n",
       "5     152  Machine2\n",
       "0     156  Machine3\n",
       "1     157  Machine3\n",
       "2     154  Machine3\n",
       "3     155  Machine3\n",
       "4     155  Machine3\n",
       "5     156  Machine3"
      ]
     },
     "execution_count": 12,
     "metadata": {},
     "output_type": "execute_result"
    }
   ],
   "source": [
    "m13"
   ]
  },
  {
   "cell_type": "code",
   "execution_count": 14,
   "id": "4689431c",
   "metadata": {},
   "outputs": [],
   "source": [
    "post_hoc_test = pairwise_tukeyhsd(endog=m13['volume'], groups=m13['machine'], alpha=0.05)"
   ]
  },
  {
   "cell_type": "code",
   "execution_count": 16,
   "id": "bd7a1486",
   "metadata": {},
   "outputs": [
    {
     "name": "stdout",
     "output_type": "stream",
     "text": [
      " Multiple Comparison of Means - Tukey HSD, FWER=0.05  \n",
      "======================================================\n",
      " group1   group2  meandiff p-adj  lower  upper  reject\n",
      "------------------------------------------------------\n",
      "Machine1 Machine2   0.1667   0.9 -1.8692 2.2025  False\n",
      "Machine1 Machine3   4.8333 0.001  2.7975 6.8692   True\n",
      "Machine2 Machine3   4.6667 0.001  2.6308 6.7025   True\n",
      "------------------------------------------------------\n"
     ]
    }
   ],
   "source": [
    "print(post_hoc_test)"
   ]
  },
  {
   "cell_type": "code",
   "execution_count": 17,
   "id": "d95b9bb5",
   "metadata": {},
   "outputs": [
    {
     "data": {
      "text/plain": [
       "<AxesSubplot:xlabel='machine', ylabel='volume'>"
      ]
     },
     "execution_count": 17,
     "metadata": {},
     "output_type": "execute_result"
    },
    {
     "data": {
      "image/png": "[encoded data removed]",
      "text/plain": [
       "<Figure size 432x288 with 1 Axes>"
      ]
     },
     "metadata": {
      "needs_background": "light"
     },
     "output_type": "display_data"
    }
   ],
   "source": [
    "sns.boxplot(data=m13, x='machine', y='volume')"
   ]
  },
  {
   "cell_type": "code",
   "execution_count": 19,
   "id": "d030dc08",
   "metadata": {},
   "outputs": [],
   "source": [
    "#Doing goodness of fit_test\n",
    "#a t-shirt manufacture expects as actual sale of size = small, medium, large, extra_large\n",
    "\n",
    "expected_ratio = pd.Series([0.1, 0.2, 0.4, 0.3])\n",
    "observe = pd.Series([25, 41, 91, 68])\n",
    "expected = expected_ratio * sum(observe)"
   ]
  },
  {
   "cell_type": "code",
   "execution_count": 20,
   "id": "409ff20f",
   "metadata": {},
   "outputs": [
    {
     "data": {
      "text/plain": [
       "0    22.5\n",
       "1    45.0\n",
       "2    90.0\n",
       "3    67.5\n",
       "dtype: float64"
      ]
     },
     "execution_count": 20,
     "metadata": {},
     "output_type": "execute_result"
    }
   ],
   "source": [
    "expected"
   ]
  },
  {
   "cell_type": "code",
   "execution_count": 21,
   "id": "c5d22d9d",
   "metadata": {},
   "outputs": [
    {
     "data": {
      "text/plain": [
       "0    25\n",
       "1    41\n",
       "2    91\n",
       "3    68\n",
       "dtype: int64"
      ]
     },
     "execution_count": 21,
     "metadata": {},
     "output_type": "execute_result"
    }
   ],
   "source": [
    "observe"
   ]
  },
  {
   "cell_type": "code",
   "execution_count": 22,
   "id": "edee8fb2",
   "metadata": {},
   "outputs": [
    {
     "data": {
      "text/plain": [
       "Power_divergenceResult(statistic=0.648148148148148, pvalue=0.8853267818237286)"
      ]
     },
     "execution_count": 22,
     "metadata": {},
     "output_type": "execute_result"
    }
   ],
   "source": [
    "stats.chisquare(f_obs=observe, f_exp=expected, ddof=0, axis=0)"
   ]
  },
  {
   "cell_type": "code",
   "execution_count": 23,
   "id": "d259d8b1",
   "metadata": {},
   "outputs": [],
   "source": [
    "#contengency table\n",
    "#lets create 3d array and data in it\n",
    "sp_o1 = np.array([[22, 26, 23],[28, 62, 26],[77, 22, 66]])"
   ]
  },
  {
   "cell_type": "code",
   "execution_count": 24,
   "id": "4422eba4",
   "metadata": {},
   "outputs": [
    {
     "data": {
      "text/plain": [
       "array([[22, 26, 23],\n",
       "       [28, 62, 26],\n",
       "       [77, 22, 66]])"
      ]
     },
     "execution_count": 24,
     "metadata": {},
     "output_type": "execute_result"
    }
   ],
   "source": [
    "sp_o1"
   ]
  },
  {
   "cell_type": "code",
   "execution_count": 25,
   "id": "0f71db8a",
   "metadata": {},
   "outputs": [
    {
     "data": {
      "text/plain": [
       "(52.56711777636744,\n",
       " 1.04977549182856e-10,\n",
       " 4,\n",
       " array([[25.61647727, 22.1875    , 23.19602273],\n",
       "        [41.85227273, 36.25      , 37.89772727],\n",
       "        [59.53125   , 51.5625    , 53.90625   ]]))"
      ]
     },
     "execution_count": 25,
     "metadata": {},
     "output_type": "execute_result"
    }
   ],
   "source": [
    "stats.chi2_contingency(observed=sp_o1)"
   ]
  },
  {
   "cell_type": "code",
   "execution_count": null,
   "id": "09e31a30",
   "metadata": {},
   "outputs": [],
   "source": [
    "# 52.56 is chi(calculated), 1.04977 is p-value, 4 is degree of freedom"
   ]
  }
 ],
 "metadata": {
  "kernelspec": {
   "display_name": "Python 3 (ipykernel)",
   "language": "python",
   "name": "python3"
  },
  "language_info": {
   "codemirror_mode": {
    "name": "ipython",
    "version": 3
   },
   "file_extension": ".py",
   "mimetype": "text/x-python",
   "name": "python",
   "nbconvert_exporter": "python",
   "pygments_lexer": "ipython3",
   "version": "3.9.7"
  }
 },
 "nbformat": 4,
 "nbformat_minor": 5
}
