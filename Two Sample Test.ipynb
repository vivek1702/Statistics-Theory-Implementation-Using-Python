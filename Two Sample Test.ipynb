{
 "cells": [
  {
   "cell_type": "code",
   "execution_count": 25,
   "id": "fa0e6e0c",
   "metadata": {},
   "outputs": [],
   "source": [
    "import numpy as np\n",
    "import pandas as pd\n",
    "import matplotlib.pyplot as plt\n",
    "import scipy.stats as stats\n",
    "import seaborn as sns\n",
    "from statsmodels.stats import weightstats\n",
    "from statsmodels.stats import proportion"
   ]
  },
  {
   "cell_type": "code",
   "execution_count": 3,
   "id": "b31fb71d",
   "metadata": {},
   "outputs": [],
   "source": [
    "df = pd.read_csv(r'C:\\Users\\svive\\Statistics Notes Using Python/Two+Machines.csv')"
   ]
  },
  {
   "cell_type": "code",
   "execution_count": 4,
   "id": "830b7716",
   "metadata": {},
   "outputs": [
    {
     "data": {
      "text/html": [
       "<div>\n",
       "<style scoped>\n",
       "    .dataframe tbody tr th:only-of-type {\n",
       "        vertical-align: middle;\n",
       "    }\n",
       "\n",
       "    .dataframe tbody tr th {\n",
       "        vertical-align: top;\n",
       "    }\n",
       "\n",
       "    .dataframe thead th {\n",
       "        text-align: right;\n",
       "    }\n",
       "</style>\n",
       "<table border=\"1\" class=\"dataframe\">\n",
       "  <thead>\n",
       "    <tr style=\"text-align: right;\">\n",
       "      <th></th>\n",
       "      <th>Volume</th>\n",
       "      <th>Machine</th>\n",
       "    </tr>\n",
       "  </thead>\n",
       "  <tbody>\n",
       "    <tr>\n",
       "      <th>0</th>\n",
       "      <td>154.27</td>\n",
       "      <td>Machine 1</td>\n",
       "    </tr>\n",
       "    <tr>\n",
       "      <th>1</th>\n",
       "      <td>150.03</td>\n",
       "      <td>Machine 1</td>\n",
       "    </tr>\n",
       "    <tr>\n",
       "      <th>2</th>\n",
       "      <td>151.14</td>\n",
       "      <td>Machine 1</td>\n",
       "    </tr>\n",
       "    <tr>\n",
       "      <th>3</th>\n",
       "      <td>145.47</td>\n",
       "      <td>Machine 1</td>\n",
       "    </tr>\n",
       "    <tr>\n",
       "      <th>4</th>\n",
       "      <td>149.71</td>\n",
       "      <td>Machine 1</td>\n",
       "    </tr>\n",
       "  </tbody>\n",
       "</table>\n",
       "</div>"
      ],
      "text/plain": [
       "   Volume    Machine\n",
       "0  154.27  Machine 1\n",
       "1  150.03  Machine 1\n",
       "2  151.14  Machine 1\n",
       "3  145.47  Machine 1\n",
       "4  149.71  Machine 1"
      ]
     },
     "execution_count": 4,
     "metadata": {},
     "output_type": "execute_result"
    }
   ],
   "source": [
    "df.head()"
   ]
  },
  {
   "cell_type": "code",
   "execution_count": 7,
   "id": "2d2ea1e4",
   "metadata": {},
   "outputs": [
    {
     "data": {
      "text/plain": [
       "<seaborn.axisgrid.FacetGrid at 0x238541716a0>"
      ]
     },
     "execution_count": 7,
     "metadata": {},
     "output_type": "execute_result"
    },
    {
     "data": {
      "image/png": "[encoded data removed]",
      "text/plain": [
       "<Figure size 360x360 with 1 Axes>"
      ]
     },
     "metadata": {
      "needs_background": "light"
     },
     "output_type": "display_data"
    }
   ],
   "source": [
    "sns.catplot(data=df, x='Machine', y='Volume', kind='box')"
   ]
  },
  {
   "cell_type": "code",
   "execution_count": 8,
   "id": "916dd1d6",
   "metadata": {},
   "outputs": [],
   "source": [
    "m1 = df[df['Machine'] == 'Machine 1']['Volume']\n",
    "m2 = df[df['Machine'] == 'Machine 2']['Volume']"
   ]
  },
  {
   "cell_type": "code",
   "execution_count": 9,
   "id": "59dae1e1",
   "metadata": {},
   "outputs": [
    {
     "data": {
      "text/plain": [
       "(-2.189406040190184, 0.028567341032618248)"
      ]
     },
     "execution_count": 9,
     "metadata": {},
     "output_type": "execute_result"
    }
   ],
   "source": [
    "weightstats.ztest(m1, m2)"
   ]
  },
  {
   "cell_type": "markdown",
   "id": "72588f4b",
   "metadata": {},
   "source": [
    "this means we can reject the null hypothesis beacuse \"0.028567341032618248\" this value is less than p -value which is 0.05"
   ]
  },
  {
   "cell_type": "code",
   "execution_count": 10,
   "id": "72331301",
   "metadata": {},
   "outputs": [
    {
     "data": {
      "text/plain": [
       "['anagrams',\n",
       " 'anscombe',\n",
       " 'attention',\n",
       " 'brain_networks',\n",
       " 'car_crashes',\n",
       " 'diamonds',\n",
       " 'dots',\n",
       " 'dowjones',\n",
       " 'exercise',\n",
       " 'flights',\n",
       " 'fmri',\n",
       " 'geyser',\n",
       " 'glue',\n",
       " 'healthexp',\n",
       " 'iris',\n",
       " 'mpg',\n",
       " 'penguins',\n",
       " 'planets',\n",
       " 'seaice',\n",
       " 'taxis',\n",
       " 'tips',\n",
       " 'titanic']"
      ]
     },
     "execution_count": 10,
     "metadata": {},
     "output_type": "execute_result"
    }
   ],
   "source": [
    "#now will import some dataset which are in eaborn library\n",
    "sns.get_dataset_names()"
   ]
  },
  {
   "cell_type": "code",
   "execution_count": 17,
   "id": "be069de5",
   "metadata": {},
   "outputs": [],
   "source": [
    "# equal variance\n",
    "#here we are taking sample of two machine\n",
    "m1 = [150, 152, 154, 152, 151]\n",
    "m2 = [156, 155, 158, 155, 154]"
   ]
  },
  {
   "cell_type": "code",
   "execution_count": 18,
   "id": "a48e65ee",
   "metadata": {},
   "outputs": [
    {
     "data": {
      "text/plain": [
       "Ttest_indResult(statistic=-4.005551702879929, pvalue=0.003919295477128331)"
      ]
     },
     "execution_count": 18,
     "metadata": {},
     "output_type": "execute_result"
    }
   ],
   "source": [
    "stats.ttest_ind(m1, m2)"
   ]
  },
  {
   "cell_type": "code",
   "execution_count": 19,
   "id": "e2ce0102",
   "metadata": {},
   "outputs": [],
   "source": [
    "#different varianve of sample\n",
    "m1 = [150, 152, 154, 152, 151]\n",
    "m3 = [144, 162, 177, 150, 140]"
   ]
  },
  {
   "cell_type": "code",
   "execution_count": 22,
   "id": "028dac34",
   "metadata": {},
   "outputs": [
    {
     "data": {
      "text/plain": [
       "Ttest_indResult(statistic=-4.005551702879929, pvalue=0.00392325099064847)"
      ]
     },
     "execution_count": 22,
     "metadata": {},
     "output_type": "execute_result"
    }
   ],
   "source": [
    "stats.ttest_ind(m1, m2, equal_var=False )"
   ]
  },
  {
   "cell_type": "code",
   "execution_count": 23,
   "id": "7c434915",
   "metadata": {},
   "outputs": [],
   "source": [
    "#now will do paired t-test\n",
    "#example - bloodpressure before and after the medicine of pateint\n",
    "bp_before = [120, 122, 143, 100, 109]\n",
    "bp_after = [122, 120, 141, 109, 109]\n"
   ]
  },
  {
   "cell_type": "code",
   "execution_count": 24,
   "id": "201aaf75",
   "metadata": {},
   "outputs": [
    {
     "data": {
      "text/plain": [
       "Ttest_relResult(statistic=-0.6864064729836442, pvalue=0.5301776477578163)"
      ]
     },
     "execution_count": 24,
     "metadata": {},
     "output_type": "execute_result"
    }
   ],
   "source": [
    "#here we use ttest_relation as paired_test\n",
    "stats.ttest_rel(bp_before, bp_after)"
   ]
  },
  {
   "cell_type": "markdown",
   "id": "433e5c02",
   "metadata": {},
   "source": [
    "we fail to reject null hypothesis, since pvalue is greater than 0.05"
   ]
  },
  {
   "cell_type": "code",
   "execution_count": null,
   "id": "406b1960",
   "metadata": {},
   "outputs": [],
   "source": [
    "#Two Proportion test using pooled method"
   ]
  },
  {
   "cell_type": "code",
   "execution_count": null,
   "id": "ca399487",
   "metadata": {},
   "outputs": [],
   "source": [
    "#we use binomial distribution and approx it to normal distribution "
   ]
  },
  {
   "cell_type": "code",
   "execution_count": 26,
   "id": "f9d45773",
   "metadata": {},
   "outputs": [
    {
     "data": {
      "text/plain": [
       "<class 'statsmodels.stats.base.HolderTuple'>\n",
       "statistic = 1.145433008876846\n",
       "pvalue = 0.2520298311822946\n",
       "compare = diff\n",
       "method = agresti-caffo\n",
       "diff = 0.04999999999999999\n",
       "ratio = 1.4999999999999998\n",
       "odds_ratio = 1.588235294117647\n",
       "variance = 0.001586401953652147\n",
       "alternative = two-sided\n",
       "value = 0\n",
       "tuple = (1.145433008876846, 0.2520298311822946)"
      ]
     },
     "execution_count": 26,
     "metadata": {},
     "output_type": "execute_result"
    }
   ],
   "source": [
    "proportion.test_proportions_2indep(30, 200, 10, 100) #here we need to give count 1, observation 1 and count 2, observation 2"
   ]
  },
  {
   "cell_type": "code",
   "execution_count": null,
   "id": "c0e369c6",
   "metadata": {},
   "outputs": [],
   "source": [
    "#now will do two variance test and for that we use bartlett test and levene test library,\n",
    "#this will help us to check equality of variance test\n",
    "#where bartlett test gives us assumption result but levene gives us robust result\n"
   ]
  },
  {
   "cell_type": "code",
   "execution_count": 27,
   "id": "dc552e94",
   "metadata": {},
   "outputs": [],
   "source": [
    "#les take an example same as therory part\n",
    "m1 = [148, 149, 150, 150, 150, 151, 152, 151]\n",
    "m2 = [135, 152, 154, 169, 157]\n"
   ]
  },
  {
   "cell_type": "code",
   "execution_count": 28,
   "id": "69f77612",
   "metadata": {},
   "outputs": [
    {
     "data": {
      "text/plain": [
       "BartlettResult(statistic=19.105727631632714, pvalue=1.2367317910523616e-05)"
      ]
     },
     "execution_count": 28,
     "metadata": {},
     "output_type": "execute_result"
    }
   ],
   "source": [
    "stats.bartlett(m1, m2)"
   ]
  },
  {
   "cell_type": "code",
   "execution_count": 29,
   "id": "079438b0",
   "metadata": {},
   "outputs": [
    {
     "data": {
      "text/plain": [
       "LeveneResult(statistic=5.416245804750017, pvalue=0.040060452607943706)"
      ]
     },
     "execution_count": 29,
     "metadata": {},
     "output_type": "execute_result"
    }
   ],
   "source": [
    "stats.levene(m1, m2)"
   ]
  },
  {
   "cell_type": "markdown",
   "id": "3271f618",
   "metadata": {},
   "source": [
    "we reject the null hypothesis here"
   ]
  },
  {
   "cell_type": "code",
   "execution_count": null,
   "id": "2c87a185",
   "metadata": {},
   "outputs": [],
   "source": []
  }
 ],
 "metadata": {
  "kernelspec": {
   "display_name": "Python 3 (ipykernel)",
   "language": "python",
   "name": "python3"
  },
  "language_info": {
   "codemirror_mode": {
    "name": "ipython",
    "version": 3
   },
   "file_extension": ".py",
   "mimetype": "text/x-python",
   "name": "python",
   "nbconvert_exporter": "python",
   "pygments_lexer": "ipython3",
   "version": "3.9.7"
  }
 },
 "nbformat": 4,
 "nbformat_minor": 5
}
