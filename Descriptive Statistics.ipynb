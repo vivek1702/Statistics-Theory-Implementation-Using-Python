{
 "cells": [
  {
   "cell_type": "code",
   "execution_count": null,
   "id": "975d2dca",
   "metadata": {},
   "outputs": [],
   "source": [
    "# In decriptive statistics we genrally do two types of test\n",
    "# - measure of central tendancy\n",
    "# - measure of Dispersion\n",
    "\n",
    "#lets make a list"
   ]
  },
  {
   "cell_type": "code",
   "execution_count": 1,
   "id": "0b9c8f60",
   "metadata": {},
   "outputs": [],
   "source": [
    "a = [1, 2, 3, 3, 5]"
   ]
  },
  {
   "cell_type": "code",
   "execution_count": 2,
   "id": "fc93aa6a",
   "metadata": {},
   "outputs": [
    {
     "data": {
      "text/plain": [
       "14"
      ]
     },
     "execution_count": 2,
     "metadata": {},
     "output_type": "execute_result"
    }
   ],
   "source": [
    "#lets take sum of list\n",
    "sum(a)"
   ]
  },
  {
   "cell_type": "code",
   "execution_count": 3,
   "id": "e19bbb10",
   "metadata": {},
   "outputs": [
    {
     "data": {
      "text/plain": [
       "5"
      ]
     },
     "execution_count": 3,
     "metadata": {},
     "output_type": "execute_result"
    }
   ],
   "source": [
    "#length of the list\n",
    "len(a)"
   ]
  },
  {
   "cell_type": "code",
   "execution_count": 6,
   "id": "cb356104",
   "metadata": {},
   "outputs": [],
   "source": [
    "#lets find the mean\n",
    "import statistics as st"
   ]
  },
  {
   "cell_type": "code",
   "execution_count": 7,
   "id": "69f0b68a",
   "metadata": {},
   "outputs": [
    {
     "data": {
      "text/plain": [
       "2.8"
      ]
     },
     "execution_count": 7,
     "metadata": {},
     "output_type": "execute_result"
    }
   ],
   "source": [
    "st.mean(a)"
   ]
  },
  {
   "cell_type": "code",
   "execution_count": 8,
   "id": "978eeab4",
   "metadata": {},
   "outputs": [
    {
     "data": {
      "text/plain": [
       "3"
      ]
     },
     "execution_count": 8,
     "metadata": {},
     "output_type": "execute_result"
    }
   ],
   "source": [
    "#lets find median and mode\n",
    "st.median(a)\n",
    "st.mode(a)"
   ]
  },
  {
   "cell_type": "code",
   "execution_count": 9,
   "id": "d8a7ecf5",
   "metadata": {},
   "outputs": [
    {
     "data": {
      "text/plain": [
       "1.4832396974191326"
      ]
     },
     "execution_count": 9,
     "metadata": {},
     "output_type": "execute_result"
    }
   ],
   "source": [
    "#lets find the standard deviation\n",
    "st.stdev(a)"
   ]
  },
  {
   "cell_type": "code",
   "execution_count": 10,
   "id": "85f6795c",
   "metadata": {},
   "outputs": [
    {
     "data": {
      "text/plain": [
       "2.2"
      ]
     },
     "execution_count": 10,
     "metadata": {},
     "output_type": "execute_result"
    }
   ],
   "source": [
    "#variance squart root is standard deviation\n",
    "st.variance(a)"
   ]
  },
  {
   "cell_type": "code",
   "execution_count": 11,
   "id": "86061686",
   "metadata": {},
   "outputs": [],
   "source": [
    "#lets find the qunatile range\n",
    "quantile_range = st.quantiles(a)"
   ]
  },
  {
   "cell_type": "code",
   "execution_count": 12,
   "id": "70d04bff",
   "metadata": {},
   "outputs": [
    {
     "data": {
      "text/plain": [
       "[1.5, 3.0, 4.0]"
      ]
     },
     "execution_count": 12,
     "metadata": {},
     "output_type": "execute_result"
    }
   ],
   "source": [
    "quantile_range"
   ]
  },
  {
   "cell_type": "code",
   "execution_count": 13,
   "id": "1fd5a7f4",
   "metadata": {},
   "outputs": [
    {
     "data": {
      "text/plain": [
       "2.5"
      ]
     },
     "execution_count": 13,
     "metadata": {},
     "output_type": "execute_result"
    }
   ],
   "source": [
    "quantile_range[2] - quantile_range[0]"
   ]
  },
  {
   "cell_type": "code",
   "execution_count": null,
   "id": "e5dc5834",
   "metadata": {},
   "outputs": [],
   "source": []
  }
 ],
 "metadata": {
  "kernelspec": {
   "display_name": "Python 3 (ipykernel)",
   "language": "python",
   "name": "python3"
  },
  "language_info": {
   "codemirror_mode": {
    "name": "ipython",
    "version": 3
   },
   "file_extension": ".py",
   "mimetype": "text/x-python",
   "name": "python",
   "nbconvert_exporter": "python",
   "pygments_lexer": "ipython3",
   "version": "3.9.7"
  }
 },
 "nbformat": 4,
 "nbformat_minor": 5
}
